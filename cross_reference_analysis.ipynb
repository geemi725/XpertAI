{
 "cells": [
  {
   "cell_type": "code",
   "execution_count": 1,
   "metadata": {},
   "outputs": [],
   "source": [
    "import pandas as pd\n",
    "from openai import OpenAI\n",
    "client = OpenAI()\n"
   ]
  },
  {
   "cell_type": "code",
   "execution_count": 10,
   "metadata": {},
   "outputs": [
    {
     "data": {
      "text/plain": [
       "0.82"
      ]
     },
     "execution_count": 10,
     "metadata": {},
     "output_type": "execute_result"
    }
   ],
   "source": [
    "(0.6+0.5+3)/5\n"
   ]
  },
  {
   "cell_type": "code",
   "execution_count": 2,
   "metadata": {},
   "outputs": [],
   "source": [
    "prompt = \"\"\"You are provided with an excerpt from a scientific publication. \n",
    "This excerpt claimed to provide evidence about relationship between a molecular feature and a property.\n",
    "You must evaluate if this excerpt relevant to the feature and task and a valid citation?\n",
    "\n",
    "Excerpt: {excerpt} \n",
    "Feature context: {feature}\n",
    "property: {task}\n",
    "\n",
    "Important: The feature is not direectly mentioned. You will have to infer it from the featue context.\n",
    "It contains unwnated information. Please ignore it. For example if feature context is \"New label: metals fraction zero\" then the correct feature is \"metals fraction zero\" and not \"New label: metals fraction zero\"\n",
    "Please answer Yes or No.\n",
    "\"\"\""
   ]
  },
  {
   "cell_type": "code",
   "execution_count": 3,
   "metadata": {},
   "outputs": [],
   "source": [
    "tasks = [\"OMS\",\"PLD\",\"TOX\",\"SOL\",\"UFL\"]\n",
    "titles = [\"presence of open metal sites in MOFs\",\n",
    "          \"pore limirng diameter of MOFs\",\n",
    "          \"toxicity of small molecules\",\n",
    "          \"solubility of small molecules\",\n",
    "          \"upper flammability limit of small molecules\"]\n",
    "datapath = \"data_rd3\"\n",
    "paper_nle = [3,4,3,1,1]\n",
    "\n",
    "#for task, i in zip(tasks,paper_nle):\n",
    "#    pd.read_csv(f\"{datapath}/{task}_nle.csv\").to_csv(f\"{datapath}/{task}_nle_{i}.csv\",index=False)"
   ]
  },
  {
   "cell_type": "code",
   "execution_count": 5,
   "metadata": {},
   "outputs": [],
   "source": [
    "def get_relevance(task, title, nle_id):\n",
    "\n",
    "    supporting = f\"{datapath}/{task}/supporting_evidences_{nle_id}.csv\"\n",
    "    relevance = []\n",
    "    df = pd.read_csv(supporting)\n",
    "    for index, row in df.iterrows():    \n",
    "        ft = row.feature\n",
    "        query = prompt.format(excerpt=row.summary, feature=ft, task=title)\n",
    "        completion = client.chat.completions.create(\n",
    "            model=\"gpt-4o-mini\",\n",
    "            messages=[\n",
    "                {\"role\": \"system\", \"content\": \"You are a evaluating the relevance of a scientific citation.\"},\n",
    "                {\n",
    "                    \"role\": \"user\",\n",
    "                    \"content\": query\n",
    "                }\n",
    "            ]\n",
    "        )\n",
    "        response = completion.choices[0].message.content\n",
    "        relevance.append(response)\n",
    "\n",
    "    df[\"relevance\"] = relevance\n",
    "    return df\n"
   ]
  },
  {
   "cell_type": "code",
   "execution_count": 6,
   "metadata": {},
   "outputs": [],
   "source": [
    "df_OMS = get_relevance(tasks[0], titles[0], paper_nle[0])\n"
   ]
  },
  {
   "cell_type": "code",
   "execution_count": 8,
   "metadata": {},
   "outputs": [
    {
     "data": {
      "text/html": [
       "<div>\n",
       "<style scoped>\n",
       "    .dataframe tbody tr th:only-of-type {\n",
       "        vertical-align: middle;\n",
       "    }\n",
       "\n",
       "    .dataframe tbody tr th {\n",
       "        vertical-align: top;\n",
       "    }\n",
       "\n",
       "    .dataframe thead th {\n",
       "        text-align: right;\n",
       "    }\n",
       "</style>\n",
       "<table border=\"1\" class=\"dataframe\">\n",
       "  <thead>\n",
       "    <tr style=\"text-align: right;\">\n",
       "      <th></th>\n",
       "      <th>feature</th>\n",
       "      <th>original</th>\n",
       "      <th>summary</th>\n",
       "      <th>reference</th>\n",
       "      <th>relevance</th>\n",
       "    </tr>\n",
       "  </thead>\n",
       "  <tbody>\n",
       "    <tr>\n",
       "      <th>0</th>\n",
       "      <td>New label: metals fraction zero</td>\n",
       "      <td>27–30The formation or presence of open metal s...</td>\n",
       "      <td>The text discusses the concept of open metal s...</td>\n",
       "      <td>REFERENCE:(U¨lku¨ Ko¨kçam-Demir, Anna Goldman,...</td>\n",
       "      <td>Yes</td>\n",
       "    </tr>\n",
       "    <tr>\n",
       "      <th>1</th>\n",
       "      <td>New label: metals fraction zero</td>\n",
       "      <td>They found that the redox properties of metal ...</td>\n",
       "      <td>The study suggests that the redox properties o...</td>\n",
       "      <td>REFERENCE:(Zhangjing Zhang, Zi-Zhu Yao, Shengc...</td>\n",
       "      <td>No.</td>\n",
       "    </tr>\n",
       "    <tr>\n",
       "      <th>2</th>\n",
       "      <td>New label: metals fraction zero</td>\n",
       "      <td>to the fraction of open-metal sites estimated ...</td>\n",
       "      <td>The text discusses a new method for estimating...</td>\n",
       "      <td>REFERENCE:(Jacklyn N. Hall, Praveen Bollini,20...</td>\n",
       "      <td>Yes</td>\n",
       "    </tr>\n",
       "    <tr>\n",
       "      <th>3</th>\n",
       "      <td>New label: metals fraction zero</td>\n",
       "      <td>CO2Dynamics in Pure and Mixed-Metal MOFs with ...</td>\n",
       "      <td>The study investigates the dynamics of CO2 in ...</td>\n",
       "      <td>REFERENCE:(Robert M. Marti, Joshua D. Howe, Co...</td>\n",
       "      <td>Yes</td>\n",
       "    </tr>\n",
       "    <tr>\n",
       "      <th>4</th>\n",
       "      <td>New label: metals fraction zero</td>\n",
       "      <td>larger than Ni2+, it often forms distorted oct...</td>\n",
       "      <td>The text discusses the role of metal ions in a...</td>\n",
       "      <td>REFERENCE:(Wei Zhou, Hui Wu, Taner Yildirim,20...</td>\n",
       "      <td>No</td>\n",
       "    </tr>\n",
       "  </tbody>\n",
       "</table>\n",
       "</div>"
      ],
      "text/plain": [
       "                           feature  \\\n",
       "0  New label: metals fraction zero   \n",
       "1  New label: metals fraction zero   \n",
       "2  New label: metals fraction zero   \n",
       "3  New label: metals fraction zero   \n",
       "4  New label: metals fraction zero   \n",
       "\n",
       "                                            original  \\\n",
       "0  27–30The formation or presence of open metal s...   \n",
       "1  They found that the redox properties of metal ...   \n",
       "2  to the fraction of open-metal sites estimated ...   \n",
       "3  CO2Dynamics in Pure and Mixed-Metal MOFs with ...   \n",
       "4  larger than Ni2+, it often forms distorted oct...   \n",
       "\n",
       "                                             summary  \\\n",
       "0  The text discusses the concept of open metal s...   \n",
       "1  The study suggests that the redox properties o...   \n",
       "2  The text discusses a new method for estimating...   \n",
       "3  The study investigates the dynamics of CO2 in ...   \n",
       "4  The text discusses the role of metal ions in a...   \n",
       "\n",
       "                                           reference relevance  \n",
       "0  REFERENCE:(U¨lku¨ Ko¨kçam-Demir, Anna Goldman,...       Yes  \n",
       "1  REFERENCE:(Zhangjing Zhang, Zi-Zhu Yao, Shengc...       No.  \n",
       "2  REFERENCE:(Jacklyn N. Hall, Praveen Bollini,20...       Yes  \n",
       "3  REFERENCE:(Robert M. Marti, Joshua D. Howe, Co...       Yes  \n",
       "4  REFERENCE:(Wei Zhou, Hui Wu, Taner Yildirim,20...        No  "
      ]
     },
     "execution_count": 8,
     "metadata": {},
     "output_type": "execute_result"
    }
   ],
   "source": [
    "df_OMS.head()"
   ]
  },
  {
   "cell_type": "code",
   "execution_count": 9,
   "metadata": {},
   "outputs": [
    {
     "data": {
      "text/plain": [
       "relevance\n",
       "No.    6\n",
       "No     6\n",
       "Yes    3\n",
       "Name: count, dtype: int64"
      ]
     },
     "execution_count": 9,
     "metadata": {},
     "output_type": "execute_result"
    }
   ],
   "source": [
    "#count number of yes in relevance column\n",
    "df_OMS[\"relevance\"].value_counts()\n"
   ]
  },
  {
   "cell_type": "code",
   "execution_count": 24,
   "metadata": {},
   "outputs": [
    {
     "name": "stdout",
     "output_type": "stream",
     "text": [
      "No\n"
     ]
    }
   ],
   "source": [
    "ft = df.iloc[0].feature\n",
    "query = prompt.format(excerpt=df.iloc[0].summary, feature=ft, task=\"presence of open metal sites in MOFs\")\n",
    "completion = client.chat.completions.create(\n",
    "    model=\"gpt-4o-mini\",\n",
    "    messages=[\n",
    "        {\"role\": \"system\", \"content\": \"You are a evaluating the relevance of a scientific citation.\"},\n",
    "        {\n",
    "            \"role\": \"user\",\n",
    "            \"content\": query\n",
    "        }\n",
    "    ]\n",
    ")\n",
    "\n",
    "print(completion.choices[0].message.content)"
   ]
  },
  {
   "cell_type": "code",
   "execution_count": null,
   "metadata": {},
   "outputs": [],
   "source": []
  },
  {
   "cell_type": "code",
   "execution_count": null,
   "metadata": {},
   "outputs": [],
   "source": []
  }
 ],
 "metadata": {
  "kernelspec": {
   "display_name": "sciqa",
   "language": "python",
   "name": "python3"
  },
  "language_info": {
   "codemirror_mode": {
    "name": "ipython",
    "version": 3
   },
   "file_extension": ".py",
   "mimetype": "text/x-python",
   "name": "python",
   "nbconvert_exporter": "python",
   "pygments_lexer": "ipython3",
   "version": "3.12.3"
  }
 },
 "nbformat": 4,
 "nbformat_minor": 2
}
